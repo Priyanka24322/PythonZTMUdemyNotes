{
  "cells": [
    {
      "cell_type": "markdown",
      "metadata": {
        "id": "view-in-github",
        "colab_type": "text"
      },
      "source": [
        "<a href=\"https://colab.research.google.com/github/Priyanka24322/PythonZTMUdemyNotes/blob/main/lists_methods.ipynb\" target=\"_parent\"><img src=\"https://colab.research.google.com/assets/colab-badge.svg\" alt=\"Open In Colab\"/></a>"
      ]
    },
    {
      "cell_type": "code",
      "execution_count": 1,
      "id": "7f339d7a-9a57-41fc-8063-6dc728e8c444",
      "metadata": {
        "colab": {
          "base_uri": "https://localhost:8080/"
        },
        "id": "7f339d7a-9a57-41fc-8063-6dc728e8c444",
        "outputId": "05e59957-b660-4212-9108-9905564fb1b5"
      },
      "outputs": [
        {
          "output_type": "stream",
          "name": "stdout",
          "text": [
            "['apple', 'banana', 'cherry', 'orange']\n"
          ]
        }
      ],
      "source": [
        "#append\n",
        "fruits = ['apple', 'banana', 'cherry']\n",
        "fruits.append(\"orange\")\n",
        "print(fruits)"
      ]
    },
    {
      "cell_type": "code",
      "execution_count": 2,
      "id": "53181201-efe6-41db-bc55-18583832d6b3",
      "metadata": {
        "colab": {
          "base_uri": "https://localhost:8080/"
        },
        "id": "53181201-efe6-41db-bc55-18583832d6b3",
        "outputId": "84636fd0-57f0-454c-f713-b773f840ee8f"
      },
      "outputs": [
        {
          "output_type": "stream",
          "name": "stdout",
          "text": [
            "[]\n"
          ]
        }
      ],
      "source": [
        "#clear\n",
        "fruits = ['apple','banana','mango','cherry']\n",
        "fruits.clear()\n",
        "print(fruits)"
      ]
    },
    {
      "cell_type": "code",
      "execution_count": 3,
      "id": "a9ce8889-39a0-4f49-af93-e214fdc4fe0f",
      "metadata": {
        "colab": {
          "base_uri": "https://localhost:8080/"
        },
        "id": "a9ce8889-39a0-4f49-af93-e214fdc4fe0f",
        "outputId": "c311ebf1-d6b9-4bce-f94b-9659c64afe7f"
      },
      "outputs": [
        {
          "output_type": "execute_result",
          "data": {
            "text/plain": [
              "['apple', 'banana', 'mango', 'cherry']"
            ]
          },
          "metadata": {},
          "execution_count": 3
        }
      ],
      "source": [
        "#copy\n",
        "fruits = ['apple','banana','mango','cherry']\n",
        "fruits.copy()"
      ]
    },
    {
      "cell_type": "code",
      "execution_count": 4,
      "id": "dbde94f9-8cc0-4955-b186-58938d70612a",
      "metadata": {
        "colab": {
          "base_uri": "https://localhost:8080/"
        },
        "id": "dbde94f9-8cc0-4955-b186-58938d70612a",
        "outputId": "c368c4fe-22a0-4d61-d8da-e3e7dc1efffa"
      },
      "outputs": [
        {
          "output_type": "stream",
          "name": "stdout",
          "text": [
            "3\n"
          ]
        }
      ],
      "source": [
        "#count\n",
        "points = [1,2,3,4,5,3,7,4,8,1,3,2,]\n",
        "x = points.count(3)\n",
        "print(x)"
      ]
    },
    {
      "cell_type": "code",
      "execution_count": 5,
      "id": "b761b211-92af-4dc0-a16e-ddda4fd78986",
      "metadata": {
        "colab": {
          "base_uri": "https://localhost:8080/"
        },
        "id": "b761b211-92af-4dc0-a16e-ddda4fd78986",
        "outputId": "40c7286d-9b8b-4969-8acb-7ceb7a9754ac"
      },
      "outputs": [
        {
          "output_type": "stream",
          "name": "stdout",
          "text": [
            "[1, 2, 3, 4, 5, 'dog', 'cat', 'monkey']\n"
          ]
        }
      ],
      "source": [
        "#extend\n",
        "points = [1,2,3,4,5]\n",
        "animals = ['dog','cat','monkey']\n",
        "points.extend(animals)\n",
        "print(points)"
      ]
    },
    {
      "cell_type": "code",
      "execution_count": 6,
      "id": "ed349364-ce68-4ab1-98b4-16dd9bae0566",
      "metadata": {
        "colab": {
          "base_uri": "https://localhost:8080/"
        },
        "id": "ed349364-ce68-4ab1-98b4-16dd9bae0566",
        "outputId": "66bc7f99-4864-4f55-dd21-ef6d4407fa7a"
      },
      "outputs": [
        {
          "output_type": "stream",
          "name": "stdout",
          "text": [
            "3\n"
          ]
        }
      ],
      "source": [
        "#index\n",
        "points = ['1','2','6','3','4','5']\n",
        "x = points.index(\"3\")\n",
        "print(x)"
      ]
    },
    {
      "cell_type": "code",
      "execution_count": 7,
      "id": "c210ff1b-07b9-4b86-bd79-c2cb7be8d3d8",
      "metadata": {
        "colab": {
          "base_uri": "https://localhost:8080/"
        },
        "id": "c210ff1b-07b9-4b86-bd79-c2cb7be8d3d8",
        "outputId": "79598905-558a-4cb6-8944-a34998b453fc"
      },
      "outputs": [
        {
          "output_type": "stream",
          "name": "stdout",
          "text": [
            "['apple', 'mango', 'cherry', 'banana']\n"
          ]
        }
      ],
      "source": [
        "#insert\n",
        "fruits = ['apple','mango','banana']\n",
        "fruits.insert(2,\"cherry\")\n",
        "print(fruits)"
      ]
    },
    {
      "cell_type": "code",
      "execution_count": 8,
      "id": "cf7d277f-ff0d-4fcc-b3a2-ebbe1e886d5c",
      "metadata": {
        "colab": {
          "base_uri": "https://localhost:8080/"
        },
        "id": "cf7d277f-ff0d-4fcc-b3a2-ebbe1e886d5c",
        "outputId": "244f2d24-b9dd-4f84-e770-d33db486c5de"
      },
      "outputs": [
        {
          "output_type": "stream",
          "name": "stdout",
          "text": [
            "['mango', 'banana']\n"
          ]
        }
      ],
      "source": [
        "#pop\n",
        "fruits = ['apple','mango','banana']\n",
        "fruits.pop(0)\n",
        "print(fruits)"
      ]
    },
    {
      "cell_type": "code",
      "execution_count": 9,
      "id": "33878485-6239-49fa-9862-b4343e3cf995",
      "metadata": {
        "colab": {
          "base_uri": "https://localhost:8080/"
        },
        "id": "33878485-6239-49fa-9862-b4343e3cf995",
        "outputId": "58a1b9a8-e553-426e-d96f-91030a8e8683"
      },
      "outputs": [
        {
          "output_type": "stream",
          "name": "stdout",
          "text": [
            "['1', '2', '3']\n"
          ]
        }
      ],
      "source": [
        "points = ['1','2','3','4']\n",
        "points.pop(3)\n",
        "print(points)"
      ]
    },
    {
      "cell_type": "code",
      "execution_count": 10,
      "id": "40673b92-f2c6-4ad3-9e4d-f3531cbf8e9b",
      "metadata": {
        "colab": {
          "base_uri": "https://localhost:8080/"
        },
        "id": "40673b92-f2c6-4ad3-9e4d-f3531cbf8e9b",
        "outputId": "85dcecdc-336f-4704-af67-0fca3a5627c2"
      },
      "outputs": [
        {
          "output_type": "stream",
          "name": "stdout",
          "text": [
            "['banana', 'mango', 'cherry']\n"
          ]
        }
      ],
      "source": [
        "#remove\n",
        "fruits = ['apple','banana','mango','cherry']\n",
        "fruits.remove(\"apple\")\n",
        "print(fruits)"
      ]
    },
    {
      "cell_type": "code",
      "execution_count": 11,
      "id": "b82cc525-edbf-4dcb-82a4-9c0560269af8",
      "metadata": {
        "colab": {
          "base_uri": "https://localhost:8080/"
        },
        "id": "b82cc525-edbf-4dcb-82a4-9c0560269af8",
        "outputId": "58af76f4-7f0d-455b-8381-9a77368def5e"
      },
      "outputs": [
        {
          "output_type": "stream",
          "name": "stdout",
          "text": [
            "['cherry', 'mango', 'banana', 'apple']\n"
          ]
        }
      ],
      "source": [
        "#reverse\n",
        "fruits = ['apple','banana','mango','cherry']\n",
        "fruits.reverse()\n",
        "print(fruits)"
      ]
    },
    {
      "cell_type": "code",
      "execution_count": 12,
      "id": "8feea55d-f6a6-4d99-8792-bf127a56321e",
      "metadata": {
        "colab": {
          "base_uri": "https://localhost:8080/"
        },
        "id": "8feea55d-f6a6-4d99-8792-bf127a56321e",
        "outputId": "5e94cf53-c5c8-49ff-eef4-e8384a0e5805"
      },
      "outputs": [
        {
          "output_type": "stream",
          "name": "stdout",
          "text": [
            "['apple', 'banana', 'cherry', 'mango']\n"
          ]
        }
      ],
      "source": [
        "#sort\n",
        "fruits = ['apple','banana','mango','cherry']\n",
        "fruits.sort()\n",
        "print(fruits)"
      ]
    },
    {
      "cell_type": "code",
      "execution_count": 13,
      "id": "4069357d-1842-442b-b35a-de83d2cb6554",
      "metadata": {
        "colab": {
          "base_uri": "https://localhost:8080/"
        },
        "id": "4069357d-1842-442b-b35a-de83d2cb6554",
        "outputId": "6947c7d6-806e-4485-d90e-e24b7981c869"
      },
      "outputs": [
        {
          "output_type": "stream",
          "name": "stdout",
          "text": [
            "['mango', 'cherry', 'banana', 'apple']\n"
          ]
        }
      ],
      "source": [
        "fruits = ['apple','banana','cherry','mango']\n",
        "fruits.sort(reverse = True)\n",
        "print(fruits)"
      ]
    },
    {
      "cell_type": "code",
      "execution_count": 14,
      "id": "8a288714-ad58-4f7e-b685-84064609d7b1",
      "metadata": {
        "colab": {
          "base_uri": "https://localhost:8080/"
        },
        "id": "8a288714-ad58-4f7e-b685-84064609d7b1",
        "outputId": "968bee3e-1b77-4d86-90cd-a7d365a7f5ee"
      },
      "outputs": [
        {
          "output_type": "stream",
          "name": "stdout",
          "text": [
            "['1', '2', '3', '4', '5']\n"
          ]
        }
      ],
      "source": [
        "points = ['1','2','3','4','5']\n",
        "points.sort(reverse = False)\n",
        "print(points)"
      ]
    },
    {
      "cell_type": "code",
      "execution_count": 15,
      "id": "996d2ba5-ca72-4579-ab57-c225f5f07d5e",
      "metadata": {
        "colab": {
          "base_uri": "https://localhost:8080/"
        },
        "id": "996d2ba5-ca72-4579-ab57-c225f5f07d5e",
        "outputId": "3e09ef55-038b-4d10-e4a5-3ea411d9a798"
      },
      "outputs": [
        {
          "output_type": "stream",
          "name": "stdout",
          "text": [
            "['5', '4', '3', '2', '1']\n"
          ]
        }
      ],
      "source": [
        "points = ['2','1','5','4','3']\n",
        "points.sort(reverse = True)\n",
        "print(points)"
      ]
    },
    {
      "cell_type": "code",
      "execution_count": 15,
      "id": "6f8c231f-c710-492c-86aa-e466c9986cb2",
      "metadata": {
        "id": "6f8c231f-c710-492c-86aa-e466c9986cb2"
      },
      "outputs": [],
      "source": []
    }
  ],
  "metadata": {
    "kernelspec": {
      "display_name": "anaconda-panel-2023.05-py310",
      "language": "python",
      "name": "conda-env-anaconda-panel-2023.05-py310-py"
    },
    "language_info": {
      "codemirror_mode": {
        "name": "ipython",
        "version": 3
      },
      "file_extension": ".py",
      "mimetype": "text/x-python",
      "name": "python",
      "nbconvert_exporter": "python",
      "pygments_lexer": "ipython3",
      "version": "3.11.5"
    },
    "colab": {
      "provenance": [],
      "include_colab_link": true
    }
  },
  "nbformat": 4,
  "nbformat_minor": 5
}