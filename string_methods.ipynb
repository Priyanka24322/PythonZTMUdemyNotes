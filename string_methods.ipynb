{
  "cells": [
    {
      "cell_type": "markdown",
      "metadata": {
        "id": "view-in-github",
        "colab_type": "text"
      },
      "source": [
        "<a href=\"https://colab.research.google.com/github/Priyanka24322/PythonZTMUdemyNotes/blob/main/string_methods.ipynb\" target=\"_parent\"><img src=\"https://colab.research.google.com/assets/colab-badge.svg\" alt=\"Open In Colab\"/></a>"
      ]
    },
    {
      "cell_type": "code",
      "execution_count": 101,
      "id": "2ab60a7a-9d7c-4c10-9ad8-0aa890a48538",
      "metadata": {
        "id": "2ab60a7a-9d7c-4c10-9ad8-0aa890a48538"
      },
      "outputs": [],
      "source": [
        "# complete all the python string built in methods\n",
        "# study about kernal,compiler,interpretter,debugger"
      ]
    },
    {
      "cell_type": "code",
      "execution_count": 102,
      "id": "42168cd9-c571-4162-bf48-99d8074bd866",
      "metadata": {
        "colab": {
          "base_uri": "https://localhost:8080/",
          "height": 35
        },
        "id": "42168cd9-c571-4162-bf48-99d8074bd866",
        "outputId": "f19d5f47-a91b-4a3a-9db5-f9513a43926b"
      },
      "outputs": [
        {
          "output_type": "execute_result",
          "data": {
            "text/plain": [
              "'Python is fun'"
            ],
            "application/vnd.google.colaboratory.intrinsic+json": {
              "type": "string"
            }
          },
          "metadata": {},
          "execution_count": 102
        }
      ],
      "source": [
        "#capitalize\n",
        "\"python is fun\".capitalize()"
      ]
    },
    {
      "cell_type": "code",
      "execution_count": 103,
      "id": "f687533b-0699-454b-9fa1-526b59bbb282",
      "metadata": {
        "colab": {
          "base_uri": "https://localhost:8080/",
          "height": 35
        },
        "id": "f687533b-0699-454b-9fa1-526b59bbb282",
        "outputId": "ceddf9ad-316a-4f2f-ff8d-a7dbfcfda0d4"
      },
      "outputs": [
        {
          "output_type": "execute_result",
          "data": {
            "text/plain": [
              "'python is fun'"
            ],
            "application/vnd.google.colaboratory.intrinsic+json": {
              "type": "string"
            }
          },
          "metadata": {},
          "execution_count": 103
        }
      ],
      "source": [
        "#casefold\n",
        "\"Python Is FUN\".casefold()"
      ]
    },
    {
      "cell_type": "code",
      "execution_count": 104,
      "id": "120b5e9d-9acd-4e3c-aedf-c165f1eaa337",
      "metadata": {
        "colab": {
          "base_uri": "https://localhost:8080/",
          "height": 35
        },
        "id": "120b5e9d-9acd-4e3c-aedf-c165f1eaa337",
        "outputId": "1ddeda9e-5134-4dfc-b71f-7886c7e61771"
      },
      "outputs": [
        {
          "output_type": "execute_result",
          "data": {
            "text/plain": [
              "'  banana  '"
            ],
            "application/vnd.google.colaboratory.intrinsic+json": {
              "type": "string"
            }
          },
          "metadata": {},
          "execution_count": 104
        }
      ],
      "source": [
        "#center\n",
        "\"banana\".center(10)"
      ]
    },
    {
      "cell_type": "code",
      "execution_count": 105,
      "id": "4e9650eb-bf03-4278-8fc9-2bbb58f15904",
      "metadata": {
        "colab": {
          "base_uri": "https://localhost:8080/"
        },
        "id": "4e9650eb-bf03-4278-8fc9-2bbb58f15904",
        "outputId": "df714854-38c2-4f80-a34c-20e44a312f98"
      },
      "outputs": [
        {
          "output_type": "execute_result",
          "data": {
            "text/plain": [
              "2"
            ]
          },
          "metadata": {},
          "execution_count": 105
        }
      ],
      "source": [
        "#count\n",
        "\"she is a student,she is a good human\".count(\"she\")"
      ]
    },
    {
      "cell_type": "code",
      "execution_count": 106,
      "id": "5e4d8f08-3a65-426c-8ca2-4e0c7dbdc545",
      "metadata": {
        "colab": {
          "base_uri": "https://localhost:8080/"
        },
        "id": "5e4d8f08-3a65-426c-8ca2-4e0c7dbdc545",
        "outputId": "5cf6f8d2-c46b-4b45-e20f-39ceacc9365e"
      },
      "outputs": [
        {
          "output_type": "execute_result",
          "data": {
            "text/plain": [
              "b'My name is Priy\\xc3\\xa5nka'"
            ]
          },
          "metadata": {},
          "execution_count": 106
        }
      ],
      "source": [
        "#encode\n",
        "\"My name is Priyånka\".encode()"
      ]
    },
    {
      "cell_type": "code",
      "execution_count": 107,
      "id": "c2affb1b-7637-440f-bd1a-f22e893d6707",
      "metadata": {
        "colab": {
          "base_uri": "https://localhost:8080/"
        },
        "id": "c2affb1b-7637-440f-bd1a-f22e893d6707",
        "outputId": "c7b57eea-c7ec-4cc6-832c-37296bf89429"
      },
      "outputs": [
        {
          "output_type": "execute_result",
          "data": {
            "text/plain": [
              "b'My name is Priynka'"
            ]
          },
          "metadata": {},
          "execution_count": 107
        }
      ],
      "source": [
        "\"My name is Priyånka\".encode(encoding = \"ascii\",errors = \"ignore\")"
      ]
    },
    {
      "cell_type": "code",
      "execution_count": 108,
      "id": "0880ca21-cf8b-42be-b6de-5e9b1e40df18",
      "metadata": {
        "colab": {
          "base_uri": "https://localhost:8080/"
        },
        "id": "0880ca21-cf8b-42be-b6de-5e9b1e40df18",
        "outputId": "ba1ab36a-9c5f-4135-a4d5-c16609a8f2bd"
      },
      "outputs": [
        {
          "output_type": "execute_result",
          "data": {
            "text/plain": [
              "b'My name is Priy?nka'"
            ]
          },
          "metadata": {},
          "execution_count": 108
        }
      ],
      "source": [
        "\"My name is Priyånka\".encode(encoding = \"ascii\",errors = \"replace\")"
      ]
    },
    {
      "cell_type": "code",
      "execution_count": 109,
      "id": "86ceae25-c5b4-4fc2-86bf-2c854d835b4b",
      "metadata": {
        "colab": {
          "base_uri": "https://localhost:8080/"
        },
        "id": "86ceae25-c5b4-4fc2-86bf-2c854d835b4b",
        "outputId": "fd8d8114-dafb-4b3b-8a46-13c609bcecac"
      },
      "outputs": [
        {
          "output_type": "execute_result",
          "data": {
            "text/plain": [
              "True"
            ]
          },
          "metadata": {},
          "execution_count": 109
        }
      ],
      "source": [
        "#endswith\n",
        "\"Hello, welcome to my world.\".endswith((\"my world.\", \"castel.\"))"
      ]
    },
    {
      "cell_type": "code",
      "execution_count": 110,
      "id": "3d71915d-9f2f-45bc-a0c9-cd2811d1433c",
      "metadata": {
        "colab": {
          "base_uri": "https://localhost:8080/",
          "height": 35
        },
        "id": "3d71915d-9f2f-45bc-a0c9-cd2811d1433c",
        "outputId": "b9110be2-2444-4dcd-ed34-98dac713c32d"
      },
      "outputs": [
        {
          "output_type": "execute_result",
          "data": {
            "text/plain": [
              "'h e l l o'"
            ],
            "application/vnd.google.colaboratory.intrinsic+json": {
              "type": "string"
            }
          },
          "metadata": {},
          "execution_count": 110
        }
      ],
      "source": [
        "#expandtabs\n",
        "\"h\\te\\tl\\tl\\to\".expandtabs(2)"
      ]
    },
    {
      "cell_type": "code",
      "execution_count": 111,
      "id": "f950a5c9-1c49-4838-a73f-775e9baceee2",
      "metadata": {
        "colab": {
          "base_uri": "https://localhost:8080/"
        },
        "id": "f950a5c9-1c49-4838-a73f-775e9baceee2",
        "outputId": "b502ebcb-ca44-42fa-d11b-78eeed8a9e9c"
      },
      "outputs": [
        {
          "output_type": "execute_result",
          "data": {
            "text/plain": [
              "21"
            ]
          },
          "metadata": {},
          "execution_count": 111
        }
      ],
      "source": [
        "#find\n",
        "\"hello, welcome to my world\".find(\"world\")"
      ]
    },
    {
      "cell_type": "code",
      "execution_count": 112,
      "id": "7c2a2ab5-2d8d-4f12-8b43-fb26f1b32fa4",
      "metadata": {
        "colab": {
          "base_uri": "https://localhost:8080/",
          "height": 35
        },
        "id": "7c2a2ab5-2d8d-4f12-8b43-fb26f1b32fa4",
        "outputId": "68798a2c-c41c-4b18-f571-46d1940aeff7"
      },
      "outputs": [
        {
          "output_type": "execute_result",
          "data": {
            "text/plain": [
              "'For only 50.00 dollars!'"
            ],
            "application/vnd.google.colaboratory.intrinsic+json": {
              "type": "string"
            }
          },
          "metadata": {},
          "execution_count": 112
        }
      ],
      "source": [
        "#format\n",
        "\"For only {price:.2f} dollars!\".format(price=50)"
      ]
    },
    {
      "cell_type": "code",
      "execution_count": 113,
      "id": "68f916a0-2fbc-4012-81c5-9f7be96d1680",
      "metadata": {
        "colab": {
          "base_uri": "https://localhost:8080/",
          "height": 35
        },
        "id": "68f916a0-2fbc-4012-81c5-9f7be96d1680",
        "outputId": "e1259d19-ade0-44c4-ccdb-6a3c1946bcad"
      },
      "outputs": [
        {
          "output_type": "execute_result",
          "data": {
            "text/plain": [
              "\"My name is Priyanka, I'm 21\""
            ],
            "application/vnd.google.colaboratory.intrinsic+json": {
              "type": "string"
            }
          },
          "metadata": {},
          "execution_count": 113
        }
      ],
      "source": [
        "\"My name is {}, I'm {}\".format(\"Priyanka\", 21)"
      ]
    },
    {
      "cell_type": "code",
      "execution_count": 114,
      "id": "7cbede05-1eac-4473-8847-7b787a8a49b8",
      "metadata": {
        "colab": {
          "base_uri": "https://localhost:8080/",
          "height": 35
        },
        "id": "7cbede05-1eac-4473-8847-7b787a8a49b8",
        "outputId": "12c1e706-a1da-4ff9-9963-3db25d38089b"
      },
      "outputs": [
        {
          "output_type": "execute_result",
          "data": {
            "text/plain": [
              "\"my name is Priyanka, I'm 21\""
            ],
            "application/vnd.google.colaboratory.intrinsic+json": {
              "type": "string"
            }
          },
          "metadata": {},
          "execution_count": 114
        }
      ],
      "source": [
        "\"my name is {fname}, I'm {age}\".format(fname=\"Priyanka\", age=21)"
      ]
    },
    {
      "cell_type": "code",
      "execution_count": 115,
      "id": "6a8efc8a-9562-49ca-8c2e-81add55c015c",
      "metadata": {
        "colab": {
          "base_uri": "https://localhost:8080/",
          "height": 35
        },
        "id": "6a8efc8a-9562-49ca-8c2e-81add55c015c",
        "outputId": "412cdcab-6420-4468-a7e4-f707dc40ce1a"
      },
      "outputs": [
        {
          "output_type": "execute_result",
          "data": {
            "text/plain": [
              "'Hi Priyanka.you are 21 year old'"
            ],
            "application/vnd.google.colaboratory.intrinsic+json": {
              "type": "string"
            }
          },
          "metadata": {},
          "execution_count": 115
        }
      ],
      "source": [
        "\"Hi {}.you are {} year old\".format(\"Priyanka\", 21)"
      ]
    },
    {
      "cell_type": "code",
      "execution_count": 116,
      "id": "1df3bbbb-87cd-4c04-9865-7470137f4150",
      "metadata": {
        "colab": {
          "base_uri": "https://localhost:8080/",
          "height": 35
        },
        "id": "1df3bbbb-87cd-4c04-9865-7470137f4150",
        "outputId": "8b1a0773-1a31-4b8d-834c-deeffdf0a264"
      },
      "outputs": [
        {
          "output_type": "execute_result",
          "data": {
            "text/plain": [
              "'Happy birthday Priyanka you are now on level 21!'"
            ],
            "application/vnd.google.colaboratory.intrinsic+json": {
              "type": "string"
            }
          },
          "metadata": {},
          "execution_count": 116
        }
      ],
      "source": [
        "#format_map\n",
        "str = {\"name\" : \"Priyanka\",\"age\": 21}\n",
        "\"Happy birthday {name} you are now on level {age}!\".format_map((str))"
      ]
    },
    {
      "cell_type": "code",
      "execution_count": 117,
      "id": "2d708a45-391a-4d44-8e1b-2533c4b6e48b",
      "metadata": {
        "colab": {
          "base_uri": "https://localhost:8080/"
        },
        "id": "2d708a45-391a-4d44-8e1b-2533c4b6e48b",
        "outputId": "deed76a4-6b99-4e6e-aa54-00cd3258eb7e"
      },
      "outputs": [
        {
          "output_type": "execute_result",
          "data": {
            "text/plain": [
              "7"
            ]
          },
          "metadata": {},
          "execution_count": 117
        }
      ],
      "source": [
        "# index\n",
        "\"Hello, welcome to my world\".index(\"welcome\")"
      ]
    },
    {
      "cell_type": "code",
      "execution_count": 118,
      "id": "678321d0-5d78-49e2-9d50-d16afadb3bb4",
      "metadata": {
        "colab": {
          "base_uri": "https://localhost:8080/"
        },
        "id": "678321d0-5d78-49e2-9d50-d16afadb3bb4",
        "outputId": "523e896c-0d68-474f-d285-dc43f6faf67e"
      },
      "outputs": [
        {
          "output_type": "execute_result",
          "data": {
            "text/plain": [
              "True"
            ]
          },
          "metadata": {},
          "execution_count": 118
        }
      ],
      "source": [
        "#isalnum\n",
        "\"Company345\".isalnum()"
      ]
    },
    {
      "cell_type": "code",
      "execution_count": 119,
      "id": "16854ade-2049-4153-be9d-20733f6a2420",
      "metadata": {
        "colab": {
          "base_uri": "https://localhost:8080/"
        },
        "id": "16854ade-2049-4153-be9d-20733f6a2420",
        "outputId": "d1b5bfab-1856-4f2a-c9f0-b9b93e74426f"
      },
      "outputs": [
        {
          "output_type": "execute_result",
          "data": {
            "text/plain": [
              "False"
            ]
          },
          "metadata": {},
          "execution_count": 119
        }
      ],
      "source": [
        "\"Company 34\".isalnum()"
      ]
    },
    {
      "cell_type": "code",
      "execution_count": 120,
      "id": "238c771e-5c50-4ac4-af04-5dafc3b705bb",
      "metadata": {
        "colab": {
          "base_uri": "https://localhost:8080/"
        },
        "id": "238c771e-5c50-4ac4-af04-5dafc3b705bb",
        "outputId": "118d0bf4-08be-456b-d57e-c89a605feab8"
      },
      "outputs": [
        {
          "output_type": "execute_result",
          "data": {
            "text/plain": [
              "True"
            ]
          },
          "metadata": {},
          "execution_count": 120
        }
      ],
      "source": [
        "\"54673883\".isalnum()"
      ]
    },
    {
      "cell_type": "code",
      "execution_count": 121,
      "id": "1cd366fb-c7d6-4f82-83f1-2b82a1c24341",
      "metadata": {
        "colab": {
          "base_uri": "https://localhost:8080/"
        },
        "id": "1cd366fb-c7d6-4f82-83f1-2b82a1c24341",
        "outputId": "93ebb7b9-3698-4fb3-fd48-98f4a506491d"
      },
      "outputs": [
        {
          "output_type": "execute_result",
          "data": {
            "text/plain": [
              "True"
            ]
          },
          "metadata": {},
          "execution_count": 121
        }
      ],
      "source": [
        "#isalpha\n",
        "\"ABCSchool\".isalpha()"
      ]
    },
    {
      "cell_type": "code",
      "execution_count": 122,
      "id": "ac7bb032-abbf-4e3a-a772-ed5eda882ccd",
      "metadata": {
        "colab": {
          "base_uri": "https://localhost:8080/"
        },
        "id": "ac7bb032-abbf-4e3a-a772-ed5eda882ccd",
        "outputId": "2fd2da80-1724-4456-a4cf-993a78fa92fb"
      },
      "outputs": [
        {
          "output_type": "execute_result",
          "data": {
            "text/plain": [
              "False"
            ]
          },
          "metadata": {},
          "execution_count": 122
        }
      ],
      "source": [
        "\"ABC 10\".isalpha()"
      ]
    },
    {
      "cell_type": "code",
      "execution_count": 123,
      "id": "63ef8139-1a2d-4842-ad11-621bcd02f376",
      "metadata": {
        "colab": {
          "base_uri": "https://localhost:8080/"
        },
        "id": "63ef8139-1a2d-4842-ad11-621bcd02f376",
        "outputId": "c7a6533a-9cce-4bec-cc39-7eeaffe533d0"
      },
      "outputs": [
        {
          "output_type": "execute_result",
          "data": {
            "text/plain": [
              "True"
            ]
          },
          "metadata": {},
          "execution_count": 123
        }
      ],
      "source": [
        "#isascii\n",
        "\"Company 123\".isascii()"
      ]
    },
    {
      "cell_type": "code",
      "execution_count": 124,
      "id": "05369b10-c23e-436f-ad63-3bc1316a5da2",
      "metadata": {
        "colab": {
          "base_uri": "https://localhost:8080/"
        },
        "id": "05369b10-c23e-436f-ad63-3bc1316a5da2",
        "outputId": "072aa5e3-9fd5-4a1e-9756-bba3662b2dac"
      },
      "outputs": [
        {
          "output_type": "execute_result",
          "data": {
            "text/plain": [
              "True"
            ]
          },
          "metadata": {},
          "execution_count": 124
        }
      ],
      "source": [
        "#isdigit\n",
        "\"356278\".isdigit()"
      ]
    },
    {
      "cell_type": "code",
      "execution_count": 125,
      "id": "e8a13d1e-b8ca-47bb-adc6-0656bf8a47e8",
      "metadata": {
        "colab": {
          "base_uri": "https://localhost:8080/"
        },
        "id": "e8a13d1e-b8ca-47bb-adc6-0656bf8a47e8",
        "outputId": "221ce8c3-400f-4bec-932a-f0a824c68f36"
      },
      "outputs": [
        {
          "output_type": "execute_result",
          "data": {
            "text/plain": [
              "True"
            ]
          },
          "metadata": {},
          "execution_count": 125
        }
      ],
      "source": [
        "#isidentifier\n",
        "\"MyName\".isidentifier()"
      ]
    },
    {
      "cell_type": "code",
      "execution_count": 126,
      "id": "a5b1e0be-3a8e-4ad6-8f6a-7f867fbe9496",
      "metadata": {
        "colab": {
          "base_uri": "https://localhost:8080/"
        },
        "id": "a5b1e0be-3a8e-4ad6-8f6a-7f867fbe9496",
        "outputId": "85c16531-a857-46a1-d911-ab1d1ce7159a"
      },
      "outputs": [
        {
          "output_type": "execute_result",
          "data": {
            "text/plain": [
              "False"
            ]
          },
          "metadata": {},
          "execution_count": 126
        }
      ],
      "source": [
        "\"2Number\".isidentifier()"
      ]
    },
    {
      "cell_type": "code",
      "execution_count": 127,
      "id": "a2c66e79-5c3e-4343-9022-b5b4bb08c9fa",
      "metadata": {
        "colab": {
          "base_uri": "https://localhost:8080/"
        },
        "id": "a2c66e79-5c3e-4343-9022-b5b4bb08c9fa",
        "outputId": "b44c471e-7173-4d55-e095-242840050976"
      },
      "outputs": [
        {
          "output_type": "execute_result",
          "data": {
            "text/plain": [
              "True"
            ]
          },
          "metadata": {},
          "execution_count": 127
        }
      ],
      "source": [
        "#islower\n",
        "\"hello, world\".islower()"
      ]
    },
    {
      "cell_type": "code",
      "execution_count": 128,
      "id": "71650c87-97d9-48e5-b2b5-fa569d0d17c3",
      "metadata": {
        "colab": {
          "base_uri": "https://localhost:8080/"
        },
        "id": "71650c87-97d9-48e5-b2b5-fa569d0d17c3",
        "outputId": "4886d24d-16dc-4ad9-9aa1-4a43c657677e"
      },
      "outputs": [
        {
          "output_type": "execute_result",
          "data": {
            "text/plain": [
              "True"
            ]
          },
          "metadata": {},
          "execution_count": 128
        }
      ],
      "source": [
        "\"hello, world 3\".islower()"
      ]
    },
    {
      "cell_type": "code",
      "execution_count": 129,
      "id": "24f5731c-27be-4f4a-ae8c-3d4ae60187d6",
      "metadata": {
        "colab": {
          "base_uri": "https://localhost:8080/"
        },
        "id": "24f5731c-27be-4f4a-ae8c-3d4ae60187d6",
        "outputId": "7302ea77-9f10-488c-93b7-a708b7953c18"
      },
      "outputs": [
        {
          "output_type": "execute_result",
          "data": {
            "text/plain": [
              "False"
            ]
          },
          "metadata": {},
          "execution_count": 129
        }
      ],
      "source": [
        "\"Hello\".islower()"
      ]
    },
    {
      "cell_type": "code",
      "execution_count": 130,
      "id": "d3a461df-999a-407d-96ff-179434090f46",
      "metadata": {
        "colab": {
          "base_uri": "https://localhost:8080/"
        },
        "id": "d3a461df-999a-407d-96ff-179434090f46",
        "outputId": "c1e3443b-e7d9-4605-c812-537ecbda269b"
      },
      "outputs": [
        {
          "output_type": "execute_result",
          "data": {
            "text/plain": [
              "True"
            ]
          },
          "metadata": {},
          "execution_count": 130
        }
      ],
      "source": [
        "#isnumeric\n",
        "\"54629\".isnumeric()"
      ]
    },
    {
      "cell_type": "code",
      "execution_count": 131,
      "id": "e98558e8-154c-4d1b-858e-02faabfd8a43",
      "metadata": {
        "colab": {
          "base_uri": "https://localhost:8080/"
        },
        "id": "e98558e8-154c-4d1b-858e-02faabfd8a43",
        "outputId": "332a0e13-6a73-4297-ae93-ff217c44041c"
      },
      "outputs": [
        {
          "output_type": "execute_result",
          "data": {
            "text/plain": [
              "False"
            ]
          },
          "metadata": {},
          "execution_count": 131
        }
      ],
      "source": [
        "\"53629ek89\".isnumeric()"
      ]
    },
    {
      "cell_type": "code",
      "execution_count": 132,
      "id": "66e38c42-954b-4940-914b-76d715bcaa08",
      "metadata": {
        "colab": {
          "base_uri": "https://localhost:8080/"
        },
        "id": "66e38c42-954b-4940-914b-76d715bcaa08",
        "outputId": "e8213f13-97b3-439e-ad67-4d255b34d8ff"
      },
      "outputs": [
        {
          "output_type": "execute_result",
          "data": {
            "text/plain": [
              "True"
            ]
          },
          "metadata": {},
          "execution_count": 132
        }
      ],
      "source": [
        "#isprintable\n",
        "\"hello!, welcome to my world#\".isprintable()"
      ]
    },
    {
      "cell_type": "code",
      "execution_count": 133,
      "id": "1e9ac3eb-e6e7-4b84-9980-9dc554598674",
      "metadata": {
        "colab": {
          "base_uri": "https://localhost:8080/"
        },
        "id": "1e9ac3eb-e6e7-4b84-9980-9dc554598674",
        "outputId": "110588cf-dba7-4b7e-9545-f16889984316"
      },
      "outputs": [
        {
          "output_type": "execute_result",
          "data": {
            "text/plain": [
              "True"
            ]
          },
          "metadata": {},
          "execution_count": 133
        }
      ],
      "source": [
        "\"hello\".isprintable()"
      ]
    },
    {
      "cell_type": "code",
      "execution_count": 134,
      "id": "28012bfc-9c4d-488d-91f2-08930f6bde9e",
      "metadata": {
        "colab": {
          "base_uri": "https://localhost:8080/"
        },
        "id": "28012bfc-9c4d-488d-91f2-08930f6bde9e",
        "outputId": "d238591c-b705-4cc7-f3a0-bbbc2cdd9c38"
      },
      "outputs": [
        {
          "output_type": "execute_result",
          "data": {
            "text/plain": [
              "False"
            ]
          },
          "metadata": {},
          "execution_count": 134
        }
      ],
      "source": [
        "#isspace\n",
        "\"  my name \".isspace()"
      ]
    },
    {
      "cell_type": "code",
      "execution_count": 135,
      "id": "86779546-8523-4827-9748-0c868193a5af",
      "metadata": {
        "colab": {
          "base_uri": "https://localhost:8080/"
        },
        "id": "86779546-8523-4827-9748-0c868193a5af",
        "outputId": "78a9cf27-67d0-4abd-9f6f-13502d69f2ba"
      },
      "outputs": [
        {
          "output_type": "execute_result",
          "data": {
            "text/plain": [
              "True"
            ]
          },
          "metadata": {},
          "execution_count": 135
        }
      ],
      "source": [
        "\" \".isspace()"
      ]
    },
    {
      "cell_type": "code",
      "execution_count": 136,
      "id": "f039890c-0a77-473d-b541-5a2ea23dc922",
      "metadata": {
        "colab": {
          "base_uri": "https://localhost:8080/"
        },
        "id": "f039890c-0a77-473d-b541-5a2ea23dc922",
        "outputId": "b4a25128-7e59-4e1d-d606-9799b578f775"
      },
      "outputs": [
        {
          "output_type": "execute_result",
          "data": {
            "text/plain": [
              "True"
            ]
          },
          "metadata": {},
          "execution_count": 136
        }
      ],
      "source": [
        "#istitle\n",
        "\"Hello, World\".istitle()"
      ]
    },
    {
      "cell_type": "code",
      "execution_count": 137,
      "id": "656673f6-f501-48c7-b7c4-0508581e93af",
      "metadata": {
        "colab": {
          "base_uri": "https://localhost:8080/"
        },
        "id": "656673f6-f501-48c7-b7c4-0508581e93af",
        "outputId": "c79f5ba5-3961-493e-b071-efa24b4affc0"
      },
      "outputs": [
        {
          "output_type": "execute_result",
          "data": {
            "text/plain": [
              "True"
            ]
          },
          "metadata": {},
          "execution_count": 137
        }
      ],
      "source": [
        "#isupper\n",
        "\"THIS IS A BALL\".isupper()"
      ]
    },
    {
      "cell_type": "code",
      "execution_count": 138,
      "id": "79878901-bff2-4b5b-a5ee-0906260078b3",
      "metadata": {
        "colab": {
          "base_uri": "https://localhost:8080/"
        },
        "id": "79878901-bff2-4b5b-a5ee-0906260078b3",
        "outputId": "0ce29a82-9fcd-41b7-a7db-6a4f9a905217"
      },
      "outputs": [
        {
          "output_type": "stream",
          "name": "stdout",
          "text": [
            "Priyanka#Ashish\n"
          ]
        }
      ],
      "source": [
        "#join\n",
        "tuple=(\"Priyanka\", \"Ashish\")\n",
        "x=\"#\".join(tuple)\n",
        "\n",
        "print(x)"
      ]
    },
    {
      "cell_type": "code",
      "execution_count": 139,
      "id": "8d2fcaab-d6e6-4ba2-8df9-916440ebceef",
      "metadata": {
        "colab": {
          "base_uri": "https://localhost:8080/"
        },
        "id": "8d2fcaab-d6e6-4ba2-8df9-916440ebceef",
        "outputId": "db41bb22-f99e-4547-de24-96a61c438fba"
      },
      "outputs": [
        {
          "output_type": "stream",
          "name": "stdout",
          "text": [
            "Mango      is my favorite fruits\n"
          ]
        }
      ],
      "source": [
        "#ljust\n",
        "txt=\"Mango\"\n",
        "x=txt.ljust(10)\n",
        "print(x,\"is my favorite fruits\")"
      ]
    },
    {
      "cell_type": "code",
      "execution_count": 140,
      "id": "2e416622-066d-4102-a7c5-728e8b6ffa56",
      "metadata": {
        "colab": {
          "base_uri": "https://localhost:8080/",
          "height": 35
        },
        "id": "2e416622-066d-4102-a7c5-728e8b6ffa56",
        "outputId": "daabc8b8-39a8-4602-e218-66127a79f130"
      },
      "outputs": [
        {
          "output_type": "execute_result",
          "data": {
            "text/plain": [
              "'hello my friends'"
            ],
            "application/vnd.google.colaboratory.intrinsic+json": {
              "type": "string"
            }
          },
          "metadata": {},
          "execution_count": 140
        }
      ],
      "source": [
        "#lower\n",
        "\"Hello my FRIENDS\".lower()"
      ]
    },
    {
      "cell_type": "code",
      "execution_count": 141,
      "id": "3369a65c-fcd7-4c9e-8550-a87ef3d1d2e7",
      "metadata": {
        "colab": {
          "base_uri": "https://localhost:8080/"
        },
        "id": "3369a65c-fcd7-4c9e-8550-a87ef3d1d2e7",
        "outputId": "8df49aa6-8bea-4685-c10c-1710bf3ef562"
      },
      "outputs": [
        {
          "output_type": "stream",
          "name": "stdout",
          "text": [
            "Mango is my favorite fruits\n"
          ]
        }
      ],
      "source": [
        "#lstrip\n",
        "txt=\"Mango\"\n",
        "x=txt.lstrip()\n",
        "print(x,\"is my favorite fruits\")"
      ]
    },
    {
      "cell_type": "code",
      "execution_count": 142,
      "id": "ea99a8a4-5f03-4db2-a987-9c3d064c2724",
      "metadata": {
        "colab": {
          "base_uri": "https://localhost:8080/"
        },
        "id": "ea99a8a4-5f03-4db2-a987-9c3d064c2724",
        "outputId": "522572b0-2286-496a-9b1a-708a48eb632a"
      },
      "outputs": [
        {
          "output_type": "stream",
          "name": "stdout",
          "text": [
            "hello, Pam\n"
          ]
        }
      ],
      "source": [
        "#maketrans\n",
        "txt=\"hello, Sam\"\n",
        "table = txt.maketrans(\"S\", \"P\")\n",
        "print(txt.translate(table))"
      ]
    },
    {
      "cell_type": "code",
      "execution_count": 143,
      "id": "f85f562d-5dfb-4fc8-8a40-122ee6a439d4",
      "metadata": {
        "colab": {
          "base_uri": "https://localhost:8080/"
        },
        "id": "f85f562d-5dfb-4fc8-8a40-122ee6a439d4",
        "outputId": "6e646138-ca94-46a2-da47-9815a2eb4eb5"
      },
      "outputs": [
        {
          "output_type": "execute_result",
          "data": {
            "text/plain": [
              "('I could ', 'eat', ' mango every day')"
            ]
          },
          "metadata": {},
          "execution_count": 143
        }
      ],
      "source": [
        "#partition\n",
        "\"I could eat mango every day\".partition(\"eat\")"
      ]
    },
    {
      "cell_type": "code",
      "execution_count": 144,
      "id": "aa2f6319-29ca-4859-91d8-ae79bbbefdb9",
      "metadata": {
        "colab": {
          "base_uri": "https://localhost:8080/",
          "height": 35
        },
        "id": "aa2f6319-29ca-4859-91d8-ae79bbbefdb9",
        "outputId": "2232ffb9-1c8d-45b5-fd23-8b44b8a0b6d8"
      },
      "outputs": [
        {
          "output_type": "execute_result",
          "data": {
            "text/plain": [
              "'I love mango'"
            ],
            "application/vnd.google.colaboratory.intrinsic+json": {
              "type": "string"
            }
          },
          "metadata": {},
          "execution_count": 144
        }
      ],
      "source": [
        "#replace\n",
        "\"I love apples\".replace(\"apples\", \"mango\")"
      ]
    },
    {
      "cell_type": "code",
      "execution_count": 145,
      "id": "9268fe85-ee09-46de-8d43-7abe61cdb005",
      "metadata": {
        "colab": {
          "base_uri": "https://localhost:8080/"
        },
        "id": "9268fe85-ee09-46de-8d43-7abe61cdb005",
        "outputId": "dccde5a1-0f0e-4acd-fbc1-ff62fd20772c"
      },
      "outputs": [
        {
          "output_type": "execute_result",
          "data": {
            "text/plain": [
              "1"
            ]
          },
          "metadata": {},
          "execution_count": 145
        }
      ],
      "source": [
        "#rfind #reindex\n",
        "\"Hello,world\".rfind(\"e\")"
      ]
    },
    {
      "cell_type": "code",
      "execution_count": 146,
      "id": "6fc57c16-84a9-4113-9d4d-c26155f6e88f",
      "metadata": {
        "colab": {
          "base_uri": "https://localhost:8080/"
        },
        "id": "6fc57c16-84a9-4113-9d4d-c26155f6e88f",
        "outputId": "33d9002b-d9f2-4468-f20c-a0f002c2a304"
      },
      "outputs": [
        {
          "output_type": "stream",
          "name": "stdout",
          "text": [
            "     Mango is my favorite fruits\n"
          ]
        }
      ],
      "source": [
        "#rjust\n",
        "txt=\"Mango\"\n",
        "x=txt.rjust(10)\n",
        "print(x,\"is my favorite fruits\")"
      ]
    },
    {
      "cell_type": "code",
      "execution_count": 147,
      "id": "c279f514-f18f-4bbf-9635-da4e6c3a2f5e",
      "metadata": {
        "colab": {
          "base_uri": "https://localhost:8080/"
        },
        "id": "c279f514-f18f-4bbf-9635-da4e6c3a2f5e",
        "outputId": "26f3f7ed-0048-40a4-c327-7abf399f8886"
      },
      "outputs": [
        {
          "output_type": "execute_result",
          "data": {
            "text/plain": [
              "('I could eat mango every day,', 'mango', ' is my favorite fruits')"
            ]
          },
          "metadata": {},
          "execution_count": 147
        }
      ],
      "source": [
        "#rpartition\n",
        "\"I could eat mango every day,mango is my favorite fruits\".rpartition(\"mango\")"
      ]
    },
    {
      "cell_type": "code",
      "execution_count": 148,
      "id": "3c1e261f-71fd-477a-ada8-cfa6a953c1d6",
      "metadata": {
        "colab": {
          "base_uri": "https://localhost:8080/"
        },
        "id": "3c1e261f-71fd-477a-ada8-cfa6a953c1d6",
        "outputId": "cad4051f-b9b6-4f15-b8f8-1770182d390b"
      },
      "outputs": [
        {
          "output_type": "execute_result",
          "data": {
            "text/plain": [
              "['apple', 'mango', 'banana']"
            ]
          },
          "metadata": {},
          "execution_count": 148
        }
      ],
      "source": [
        "#rsplit\n",
        "(\"apple,mango,banana\").rsplit(\",\")"
      ]
    },
    {
      "cell_type": "code",
      "execution_count": 149,
      "id": "1ea18de2-dadb-4603-9522-f69c9917f4f5",
      "metadata": {
        "colab": {
          "base_uri": "https://localhost:8080/"
        },
        "id": "1ea18de2-dadb-4603-9522-f69c9917f4f5",
        "outputId": "b6dff5fb-0b46-46be-b2bc-455101a9251e"
      },
      "outputs": [
        {
          "output_type": "stream",
          "name": "stdout",
          "text": [
            "      mango is my favorite\n"
          ]
        }
      ],
      "source": [
        "#rstrip\n",
        "txt =\"      mango       \"\n",
        "\n",
        "x = txt.rstrip()\n",
        "\n",
        "print( x, \"is my favorite\")"
      ]
    },
    {
      "cell_type": "code",
      "execution_count": 150,
      "id": "c87408e9-5f0e-478d-80cb-255c8ed6e351",
      "metadata": {
        "colab": {
          "base_uri": "https://localhost:8080/"
        },
        "id": "c87408e9-5f0e-478d-80cb-255c8ed6e351",
        "outputId": "de52c2db-a315-4100-f769-566255afd6a0"
      },
      "outputs": [
        {
          "output_type": "execute_result",
          "data": {
            "text/plain": [
              "['Hello', ' my name is Priyanka', ' I am 21 year old']"
            ]
          },
          "metadata": {},
          "execution_count": 150
        }
      ],
      "source": [
        "#split\n",
        "\"Hello, my name is Priyanka, I am 21 year old\".split(\",\")"
      ]
    },
    {
      "cell_type": "code",
      "execution_count": 151,
      "id": "82135f6e-bf58-4723-a959-5477ca0e4fb7",
      "metadata": {
        "colab": {
          "base_uri": "https://localhost:8080/"
        },
        "id": "82135f6e-bf58-4723-a959-5477ca0e4fb7",
        "outputId": "8be6a72a-67da-45e5-a421-21c55bd47cd9"
      },
      "outputs": [
        {
          "output_type": "execute_result",
          "data": {
            "text/plain": [
              "['My name is Priyanka', 'I am 21 year old']"
            ]
          },
          "metadata": {},
          "execution_count": 151
        }
      ],
      "source": [
        "#splitlines\n",
        "\"My name is Priyanka\\nI am 21 year old\".splitlines()"
      ]
    },
    {
      "cell_type": "code",
      "execution_count": 152,
      "id": "c2591d55-c97d-4b94-a2da-22f16bc07edf",
      "metadata": {
        "colab": {
          "base_uri": "https://localhost:8080/"
        },
        "id": "c2591d55-c97d-4b94-a2da-22f16bc07edf",
        "outputId": "81856001-356a-4adb-95bc-c08e8f2b1f78"
      },
      "outputs": [
        {
          "output_type": "execute_result",
          "data": {
            "text/plain": [
              "True"
            ]
          },
          "metadata": {},
          "execution_count": 152
        }
      ],
      "source": [
        "#startswith\n",
        "\"My name is Priyanka\".startswith(\"My\")"
      ]
    },
    {
      "cell_type": "code",
      "execution_count": 153,
      "id": "9509b917-375e-4cb7-9668-3ddf38133f80",
      "metadata": {
        "colab": {
          "base_uri": "https://localhost:8080/"
        },
        "id": "9509b917-375e-4cb7-9668-3ddf38133f80",
        "outputId": "52f01b8b-b658-474f-e41e-e2f54cccec0d"
      },
      "outputs": [
        {
          "output_type": "stream",
          "name": "stdout",
          "text": [
            "mango is my favorite\n"
          ]
        }
      ],
      "source": [
        "#strip\n",
        "txt =\"       mango       \"\n",
        "x = txt.strip()\n",
        "\n",
        "print( x, \"is my favorite\")"
      ]
    },
    {
      "cell_type": "code",
      "execution_count": 154,
      "id": "ac64948c-12a0-44ac-9989-d6d31370bd58",
      "metadata": {
        "colab": {
          "base_uri": "https://localhost:8080/",
          "height": 35
        },
        "id": "ac64948c-12a0-44ac-9989-d6d31370bd58",
        "outputId": "11024809-555d-4898-da3e-2748eb9f1cc5"
      },
      "outputs": [
        {
          "output_type": "execute_result",
          "data": {
            "text/plain": [
              "'hELLO My nAME Is pRIyaNKA'"
            ],
            "application/vnd.google.colaboratory.intrinsic+json": {
              "type": "string"
            }
          },
          "metadata": {},
          "execution_count": 154
        }
      ],
      "source": [
        "#swapcase\n",
        "\"Hello mY Name iS PriYAnka\".swapcase()"
      ]
    },
    {
      "cell_type": "code",
      "execution_count": 155,
      "id": "bd5ae0fb-8bf9-43ff-9339-b04948d3d900",
      "metadata": {
        "colab": {
          "base_uri": "https://localhost:8080/",
          "height": 35
        },
        "id": "bd5ae0fb-8bf9-43ff-9339-b04948d3d900",
        "outputId": "82c8df50-279d-4fb5-97b7-eadc4b4584bd"
      },
      "outputs": [
        {
          "output_type": "execute_result",
          "data": {
            "text/plain": [
              "'Hello My Name Is Priyanka'"
            ],
            "application/vnd.google.colaboratory.intrinsic+json": {
              "type": "string"
            }
          },
          "metadata": {},
          "execution_count": 155
        }
      ],
      "source": [
        "#title\n",
        "\"Hello mY Name iS PriYAnka\".title()"
      ]
    },
    {
      "cell_type": "code",
      "execution_count": 156,
      "id": "e842a824-cc42-49c8-a651-f09563c3988e",
      "metadata": {
        "colab": {
          "base_uri": "https://localhost:8080/"
        },
        "id": "e842a824-cc42-49c8-a651-f09563c3988e",
        "outputId": "8a3b9212-b1c6-4af6-ebe9-551ef3b9418a"
      },
      "outputs": [
        {
          "output_type": "stream",
          "name": "stdout",
          "text": [
            "Hello, Pam\n"
          ]
        }
      ],
      "source": [
        "#translate\n",
        "table = {83: 80}\n",
        "txt = \"Hello, Sam\"\n",
        "print(txt.translate(table))"
      ]
    },
    {
      "cell_type": "code",
      "execution_count": 157,
      "id": "a8fbf83f-9180-4970-ac00-59d44bd2567f",
      "metadata": {
        "colab": {
          "base_uri": "https://localhost:8080/",
          "height": 35
        },
        "id": "a8fbf83f-9180-4970-ac00-59d44bd2567f",
        "outputId": "e53b4bae-fcae-4ba2-a72c-efb77b65f4a3"
      },
      "outputs": [
        {
          "output_type": "execute_result",
          "data": {
            "text/plain": [
              "'HELLO MY NAME IS PRIYANKA'"
            ],
            "application/vnd.google.colaboratory.intrinsic+json": {
              "type": "string"
            }
          },
          "metadata": {},
          "execution_count": 157
        }
      ],
      "source": [
        "#upper\n",
        "\"Hello mY Name iS PriYAnka\".upper()"
      ]
    },
    {
      "cell_type": "code",
      "execution_count": 158,
      "id": "0b08fcb5-d0ef-4d4d-9836-bfcc612e7b9f",
      "metadata": {
        "colab": {
          "base_uri": "https://localhost:8080/",
          "height": 35
        },
        "id": "0b08fcb5-d0ef-4d4d-9836-bfcc612e7b9f",
        "outputId": "a6c24de6-db85-48b0-ac8c-1d282961bb63"
      },
      "outputs": [
        {
          "output_type": "execute_result",
          "data": {
            "text/plain": [
              "'00050'"
            ],
            "application/vnd.google.colaboratory.intrinsic+json": {
              "type": "string"
            }
          },
          "metadata": {},
          "execution_count": 158
        }
      ],
      "source": [
        "#zfill\n",
        "\"50\".zfill(5)"
      ]
    },
    {
      "cell_type": "code",
      "execution_count": 158,
      "id": "a221a771-3d33-4652-9032-96c32f3884aa",
      "metadata": {
        "id": "a221a771-3d33-4652-9032-96c32f3884aa"
      },
      "outputs": [],
      "source": []
    }
  ],
  "metadata": {
    "kernelspec": {
      "display_name": "anaconda-2024.02-py310",
      "language": "python",
      "name": "conda-env-anaconda-2024.02-py310-py"
    },
    "language_info": {
      "codemirror_mode": {
        "name": "ipython",
        "version": 3
      },
      "file_extension": ".py",
      "mimetype": "text/x-python",
      "name": "python",
      "nbconvert_exporter": "python",
      "pygments_lexer": "ipython3",
      "version": "3.10.14"
    },
    "colab": {
      "provenance": [],
      "include_colab_link": true
    }
  },
  "nbformat": 4,
  "nbformat_minor": 5
}