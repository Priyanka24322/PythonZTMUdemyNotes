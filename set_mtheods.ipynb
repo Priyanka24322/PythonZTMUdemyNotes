{
  "nbformat": 4,
  "nbformat_minor": 0,
  "metadata": {
    "colab": {
      "provenance": [],
      "authorship_tag": "ABX9TyM5rS3/fPpdZq7NCtmJ80nz",
      "include_colab_link": true
    },
    "kernelspec": {
      "name": "python3",
      "display_name": "Python 3"
    },
    "language_info": {
      "name": "python"
    }
  },
  "cells": [
    {
      "cell_type": "markdown",
      "metadata": {
        "id": "view-in-github",
        "colab_type": "text"
      },
      "source": [
        "<a href=\"https://colab.research.google.com/github/Priyanka24322/PythonZTMUdemyNotes/blob/main/set_mtheods.ipynb\" target=\"_parent\"><img src=\"https://colab.research.google.com/assets/colab-badge.svg\" alt=\"Open In Colab\"/></a>"
      ]
    },
    {
      "cell_type": "code",
      "execution_count": 74,
      "metadata": {
        "colab": {
          "base_uri": "https://localhost:8080/"
        },
        "id": "Ex6V83Xvo5Nd",
        "outputId": "7dbf2830-b1a5-4779-fbde-6b909089eab7"
      },
      "outputs": [
        {
          "output_type": "stream",
          "name": "stdout",
          "text": [
            "{'apple', 'banana', 'orange', 'mango'}\n"
          ]
        }
      ],
      "source": [
        "# add\n",
        "fruits = {'apple','banana','orange'}\n",
        "fruits.add('mango')\n",
        "print(fruits)"
      ]
    },
    {
      "cell_type": "code",
      "source": [
        "# clear\n",
        "fruits = {'apple','banana','cherry'}\n",
        "fruits.clear()\n",
        "print(fruits)"
      ],
      "metadata": {
        "colab": {
          "base_uri": "https://localhost:8080/"
        },
        "id": "G6KnVScCpgus",
        "outputId": "dccdd5ef-7612-4470-cef9-2b980d6ad9f5"
      },
      "execution_count": 75,
      "outputs": [
        {
          "output_type": "stream",
          "name": "stdout",
          "text": [
            "set()\n"
          ]
        }
      ]
    },
    {
      "cell_type": "code",
      "source": [
        "# copy\n",
        "fruits = {'apple','banana','cherry'}\n",
        "fruits.copy()\n",
        "print(fruits)"
      ],
      "metadata": {
        "colab": {
          "base_uri": "https://localhost:8080/"
        },
        "id": "rFVPvfR8qIgN",
        "outputId": "e4da9264-9d09-4c4e-a892-50978292f74b"
      },
      "execution_count": 76,
      "outputs": [
        {
          "output_type": "stream",
          "name": "stdout",
          "text": [
            "{'cherry', 'apple', 'banana'}\n"
          ]
        }
      ]
    },
    {
      "cell_type": "code",
      "source": [
        "# difference\n",
        "x = {'apple','banana','mango'}\n",
        "y = {'google','microsoft','apple'}\n",
        "z = x.difference(y)\n",
        "print(z)"
      ],
      "metadata": {
        "colab": {
          "base_uri": "https://localhost:8080/"
        },
        "id": "iljqAP4kqS1J",
        "outputId": "5c5c42af-6890-40cd-9338-c98eb665474d"
      },
      "execution_count": 77,
      "outputs": [
        {
          "output_type": "stream",
          "name": "stdout",
          "text": [
            "{'banana', 'mango'}\n"
          ]
        }
      ]
    },
    {
      "cell_type": "code",
      "source": [
        "x = {'apple','banana','mango'}\n",
        "y = {'google','microsoft','apple'}\n",
        "z = {'banana','phone','book'}\n",
        "w = x.difference(y,z)\n",
        "print(w)"
      ],
      "metadata": {
        "colab": {
          "base_uri": "https://localhost:8080/"
        },
        "id": "y7Gvd53Sq5dp",
        "outputId": "cbd971e2-9ba4-4854-a4c1-0bbfd39d683d"
      },
      "execution_count": 78,
      "outputs": [
        {
          "output_type": "stream",
          "name": "stdout",
          "text": [
            "{'mango'}\n"
          ]
        }
      ]
    },
    {
      "cell_type": "code",
      "source": [
        "x = {'apple','banana','mango'}\n",
        "y = {'google','microsoft','apple'}\n",
        "z = {'banana','phone','book'}\n",
        "w = y.difference(x,z)\n",
        "print(w)"
      ],
      "metadata": {
        "colab": {
          "base_uri": "https://localhost:8080/"
        },
        "id": "mleXUGG0rhIk",
        "outputId": "f512e6f9-a691-46fe-f94e-6d1cf53dc250"
      },
      "execution_count": 79,
      "outputs": [
        {
          "output_type": "stream",
          "name": "stdout",
          "text": [
            "{'microsoft', 'google'}\n"
          ]
        }
      ]
    },
    {
      "cell_type": "code",
      "source": [
        "x = {'apple','banana','mango'}\n",
        "y = {'google','microsoft','apple'}\n",
        "z = {'banana','phone','book'}\n",
        "w = z.difference(x,y)\n",
        "print(w)"
      ],
      "metadata": {
        "colab": {
          "base_uri": "https://localhost:8080/"
        },
        "id": "lEG6GvQ6rpzE",
        "outputId": "5a29f3a7-ea6e-4496-e716-72b9b24f923d"
      },
      "execution_count": 80,
      "outputs": [
        {
          "output_type": "stream",
          "name": "stdout",
          "text": [
            "{'book', 'phone'}\n"
          ]
        }
      ]
    },
    {
      "cell_type": "code",
      "source": [
        "# difference_update\n",
        "x = {'apple','banana','mango'}\n",
        "y = {'google','microsoft','apple'}\n",
        "x.difference_update(y)\n",
        "print(x)"
      ],
      "metadata": {
        "colab": {
          "base_uri": "https://localhost:8080/"
        },
        "id": "wFSJjHT8ryPi",
        "outputId": "3d97d83a-7ad9-4a49-bf34-dbffe60dc776"
      },
      "execution_count": 81,
      "outputs": [
        {
          "output_type": "stream",
          "name": "stdout",
          "text": [
            "{'banana', 'mango'}\n"
          ]
        }
      ]
    },
    {
      "cell_type": "code",
      "source": [
        "x = {'apple','banana','mango'}\n",
        "y = {'google','microsoft','apple'}\n",
        "z = {'banana','phone','book'}\n",
        "y.difference_update(x,z)\n",
        "print(y)"
      ],
      "metadata": {
        "colab": {
          "base_uri": "https://localhost:8080/"
        },
        "id": "EF-3EHKXsHaQ",
        "outputId": "2464265d-3fd6-4602-eba6-c8133f30afe1"
      },
      "execution_count": 82,
      "outputs": [
        {
          "output_type": "stream",
          "name": "stdout",
          "text": [
            "{'microsoft', 'google'}\n"
          ]
        }
      ]
    },
    {
      "cell_type": "code",
      "source": [
        "# discard\n",
        "fruits = {'apple','banana','mango'}\n",
        "fruits.discard('banana')\n",
        "print(fruits)"
      ],
      "metadata": {
        "colab": {
          "base_uri": "https://localhost:8080/"
        },
        "id": "a_lfHm7KtomW",
        "outputId": "8b0a160e-e279-4d07-eb08-9a22d743f159"
      },
      "execution_count": 83,
      "outputs": [
        {
          "output_type": "stream",
          "name": "stdout",
          "text": [
            "{'apple', 'mango'}\n"
          ]
        }
      ]
    },
    {
      "cell_type": "code",
      "source": [
        "# intersection\n",
        "x = {'apple','banana','mango'}\n",
        "y = {'google','microsoft','apple'}\n",
        "z = x.intersection(y)\n",
        "print(z)"
      ],
      "metadata": {
        "colab": {
          "base_uri": "https://localhost:8080/"
        },
        "id": "umBZprANt1Az",
        "outputId": "24fcd8dd-271e-4bce-864e-66de40461aa5"
      },
      "execution_count": 84,
      "outputs": [
        {
          "output_type": "stream",
          "name": "stdout",
          "text": [
            "{'apple'}\n"
          ]
        }
      ]
    },
    {
      "cell_type": "code",
      "source": [
        "x = {'apple','banana','mango'}\n",
        "y = {'google','microsoft','apple'}\n",
        "z = x & y\n",
        "print(z)\n"
      ],
      "metadata": {
        "colab": {
          "base_uri": "https://localhost:8080/"
        },
        "id": "FQYRMqlQuMbO",
        "outputId": "58b37113-f30a-4a27-8a0b-c4a61a555805"
      },
      "execution_count": 85,
      "outputs": [
        {
          "output_type": "stream",
          "name": "stdout",
          "text": [
            "{'apple'}\n"
          ]
        }
      ]
    },
    {
      "cell_type": "code",
      "source": [
        "x = {'a','b','c','d'}\n",
        "y = {'d','e','f'}\n",
        "z = {'d','f','g','h'}\n",
        "w = x & y & z\n",
        "print(w)"
      ],
      "metadata": {
        "colab": {
          "base_uri": "https://localhost:8080/"
        },
        "id": "uAUhsuZvuh6Q",
        "outputId": "a7188df4-d492-4d17-88ed-762a63560574"
      },
      "execution_count": 86,
      "outputs": [
        {
          "output_type": "stream",
          "name": "stdout",
          "text": [
            "{'d'}\n"
          ]
        }
      ]
    },
    {
      "cell_type": "code",
      "source": [
        "# intesection_update\n",
        "x = {'a','b','c','d'}\n",
        "y = {'d','e','f'}\n",
        "x.intersection_update(y)\n",
        "print(x)"
      ],
      "metadata": {
        "colab": {
          "base_uri": "https://localhost:8080/"
        },
        "id": "IptYhjw6vQGJ",
        "outputId": "9ac776a1-039a-49e7-9c9c-4d750b337353"
      },
      "execution_count": 87,
      "outputs": [
        {
          "output_type": "stream",
          "name": "stdout",
          "text": [
            "{'d'}\n"
          ]
        }
      ]
    },
    {
      "cell_type": "code",
      "source": [
        "x = {'a','b','c','d'}\n",
        "y = {'d','e','f'}\n",
        "x &= y\n",
        "print(x)"
      ],
      "metadata": {
        "colab": {
          "base_uri": "https://localhost:8080/"
        },
        "id": "w_XFQI2Wv7EJ",
        "outputId": "b5ad7555-cafe-4976-f5f4-2c7f3539dab6"
      },
      "execution_count": 88,
      "outputs": [
        {
          "output_type": "stream",
          "name": "stdout",
          "text": [
            "{'d'}\n"
          ]
        }
      ]
    },
    {
      "cell_type": "code",
      "source": [
        "x = {'a','b','c','d'}\n",
        "y = {'d','e','f'}\n",
        "z = {'d','f','g','h'}\n",
        "x &= y & z\n",
        "print(x)"
      ],
      "metadata": {
        "colab": {
          "base_uri": "https://localhost:8080/"
        },
        "id": "l2UIeAp1wAmS",
        "outputId": "a53e6d99-2e30-41eb-e174-b58894bad702"
      },
      "execution_count": 89,
      "outputs": [
        {
          "output_type": "stream",
          "name": "stdout",
          "text": [
            "{'d'}\n"
          ]
        }
      ]
    },
    {
      "cell_type": "code",
      "source": [
        "#  isdisjoint\n",
        "x = {'a','b','c','d'}\n",
        "y = {'d','e','f'}\n",
        "z = x.isdisjoint(y)\n",
        "print(z)"
      ],
      "metadata": {
        "colab": {
          "base_uri": "https://localhost:8080/"
        },
        "id": "oXhBXbH3wKIP",
        "outputId": "cfe75a3b-75c6-4892-aac5-14466010e217"
      },
      "execution_count": 90,
      "outputs": [
        {
          "output_type": "stream",
          "name": "stdout",
          "text": [
            "False\n"
          ]
        }
      ]
    },
    {
      "cell_type": "code",
      "source": [
        "x = {'a','b','c','d'}\n",
        "y = {'e','f'}\n",
        "z = x.isdisjoint(y)\n",
        "print(z)"
      ],
      "metadata": {
        "colab": {
          "base_uri": "https://localhost:8080/"
        },
        "id": "qiVXNvqR0Qy9",
        "outputId": "8b98d856-19f4-4940-e8cb-0eac1edcf7d4"
      },
      "execution_count": 91,
      "outputs": [
        {
          "output_type": "stream",
          "name": "stdout",
          "text": [
            "True\n"
          ]
        }
      ]
    },
    {
      "cell_type": "code",
      "source": [
        "# issubset\n",
        "x = {'a','b','c','d'}\n",
        "y = {'e','f'}\n",
        "z = x.issubset(y)\n",
        "print(z)"
      ],
      "metadata": {
        "colab": {
          "base_uri": "https://localhost:8080/"
        },
        "id": "pJKregur0eau",
        "outputId": "abed346d-6ef7-4e5e-dad9-f345573a1604"
      },
      "execution_count": 92,
      "outputs": [
        {
          "output_type": "stream",
          "name": "stdout",
          "text": [
            "False\n"
          ]
        }
      ]
    },
    {
      "cell_type": "code",
      "source": [
        "x = {'a','b','c','d'}\n",
        "y = {'e','f','b','a','c','d'}\n",
        "z = x <= y\n",
        "print(z)"
      ],
      "metadata": {
        "colab": {
          "base_uri": "https://localhost:8080/"
        },
        "id": "ttMv_RLa1UdE",
        "outputId": "d9a64e17-63ea-4ca6-b76a-054ab8076853"
      },
      "execution_count": 93,
      "outputs": [
        {
          "output_type": "stream",
          "name": "stdout",
          "text": [
            "True\n"
          ]
        }
      ]
    },
    {
      "cell_type": "code",
      "source": [
        "x = {'a','b','c','d'}\n",
        "y = {'e','f','b','a','c','d'}\n",
        "z = x < y\n",
        "print(z)"
      ],
      "metadata": {
        "colab": {
          "base_uri": "https://localhost:8080/"
        },
        "id": "fSGf04Eq1jRP",
        "outputId": "834b4ff7-a4f1-446e-dc60-ca486d2dfc36"
      },
      "execution_count": 94,
      "outputs": [
        {
          "output_type": "stream",
          "name": "stdout",
          "text": [
            "True\n"
          ]
        }
      ]
    },
    {
      "cell_type": "code",
      "source": [
        "# issuperset\n",
        "x = {'a','b','c','d'}\n",
        "y = {'e','f','b','a','c','d'}\n",
        "z = x >= y\n",
        "print(z)\n"
      ],
      "metadata": {
        "colab": {
          "base_uri": "https://localhost:8080/"
        },
        "id": "LjTB6Nc-1wvu",
        "outputId": "7fb63e2d-9a17-4cb8-e5db-2cdaa2dc539f"
      },
      "execution_count": 95,
      "outputs": [
        {
          "output_type": "stream",
          "name": "stdout",
          "text": [
            "False\n"
          ]
        }
      ]
    },
    {
      "cell_type": "code",
      "source": [
        "x = {'a','b','c','d'}\n",
        "y = {'d','c','b','a'}\n",
        "z = x >= y\n",
        "print(z)"
      ],
      "metadata": {
        "colab": {
          "base_uri": "https://localhost:8080/"
        },
        "id": "svgZd0OZ2Esr",
        "outputId": "a7e10129-e0e7-4b66-d613-240f58e8664e"
      },
      "execution_count": 96,
      "outputs": [
        {
          "output_type": "stream",
          "name": "stdout",
          "text": [
            "True\n"
          ]
        }
      ]
    },
    {
      "cell_type": "code",
      "source": [
        "# pop\n",
        "fruits = {'apple','banana','cherry','mango'}\n",
        "fruits.pop()\n",
        "print(fruits)"
      ],
      "metadata": {
        "colab": {
          "base_uri": "https://localhost:8080/"
        },
        "id": "An4ecMSe2T9i",
        "outputId": "7b659be8-0c7d-46cc-ec02-17aa3ca7bda1"
      },
      "execution_count": 97,
      "outputs": [
        {
          "output_type": "stream",
          "name": "stdout",
          "text": [
            "{'apple', 'banana', 'mango'}\n"
          ]
        }
      ]
    },
    {
      "cell_type": "code",
      "source": [
        "# remove\n",
        "fruits = {'apple','banana','cherry','mango'}\n",
        "fruits.remove('banana')\n",
        "print(fruits)"
      ],
      "metadata": {
        "colab": {
          "base_uri": "https://localhost:8080/"
        },
        "id": "TTXU8AgX24Gf",
        "outputId": "1f65fe04-fcdc-49dc-ca02-cf8569c51f17"
      },
      "execution_count": 98,
      "outputs": [
        {
          "output_type": "stream",
          "name": "stdout",
          "text": [
            "{'cherry', 'apple', 'mango'}\n"
          ]
        }
      ]
    },
    {
      "cell_type": "code",
      "source": [
        "# symmetric_difference\n",
        "x = {\"apple\", \"banana\", \"cherry\"}\n",
        "y = {\"google\", \"microsoft\", \"apple\"}\n",
        "z = x.symmetric_difference(y)\n",
        "print(z)"
      ],
      "metadata": {
        "colab": {
          "base_uri": "https://localhost:8080/"
        },
        "id": "Hf_bz98R3Ib4",
        "outputId": "cd78f048-a885-4c32-b6fe-8c1e14ffe0d5"
      },
      "execution_count": 99,
      "outputs": [
        {
          "output_type": "stream",
          "name": "stdout",
          "text": [
            "{'microsoft', 'cherry', 'banana', 'google'}\n"
          ]
        }
      ]
    },
    {
      "cell_type": "code",
      "source": [
        "x = {'a','b','c','d'}\n",
        "y = {'e','f','g','h'}\n",
        "z = x ^ y\n",
        "print(z)"
      ],
      "metadata": {
        "colab": {
          "base_uri": "https://localhost:8080/"
        },
        "id": "-vGXlryz3qop",
        "outputId": "5fd4c1d2-83c3-48be-c40b-3caaffcca8e5"
      },
      "execution_count": 100,
      "outputs": [
        {
          "output_type": "stream",
          "name": "stdout",
          "text": [
            "{'b', 'c', 'h', 'a', 'g', 'f', 'e', 'd'}\n"
          ]
        }
      ]
    },
    {
      "cell_type": "code",
      "source": [
        "# symmetric_difference_update\n",
        "x = {'a','b','c','d'}\n",
        "y = {'c','d','e','f','g','h'}\n",
        "x ^= y\n",
        "print(x)"
      ],
      "metadata": {
        "colab": {
          "base_uri": "https://localhost:8080/"
        },
        "id": "h0tddJs74jNa",
        "outputId": "2359f12c-f733-4d35-bf2e-c8f26812dd70"
      },
      "execution_count": 101,
      "outputs": [
        {
          "output_type": "stream",
          "name": "stdout",
          "text": [
            "{'b', 'h', 'a', 'g', 'f', 'e'}\n"
          ]
        }
      ]
    },
    {
      "cell_type": "code",
      "source": [
        "# union\n",
        "x = {'a','b','c','d'}\n",
        "y = {'e','f','g','h'}\n",
        "z = x | y\n",
        "print(z)"
      ],
      "metadata": {
        "colab": {
          "base_uri": "https://localhost:8080/"
        },
        "id": "IvDRrJnV48tr",
        "outputId": "116faa4f-f421-4568-b7bc-76058f027b80"
      },
      "execution_count": 102,
      "outputs": [
        {
          "output_type": "stream",
          "name": "stdout",
          "text": [
            "{'b', 'c', 'h', 'a', 'd', 'g', 'e', 'f'}\n"
          ]
        }
      ]
    },
    {
      "cell_type": "code",
      "source": [
        "x = {\"a\", \"b\", \"c\"}\n",
        "y = {\"f\", \"d\", \"a\"}\n",
        "z = {\"c\", \"d\", \"e\"}\n",
        "\n",
        "w = x | y | z\n",
        "\n",
        "print(w)"
      ],
      "metadata": {
        "colab": {
          "base_uri": "https://localhost:8080/"
        },
        "id": "kOga6Yq05laz",
        "outputId": "54c3fe37-ffb7-4b0a-f806-114600b38dba"
      },
      "execution_count": 103,
      "outputs": [
        {
          "output_type": "stream",
          "name": "stdout",
          "text": [
            "{'b', 'f', 'c', 'd', 'e', 'a'}\n"
          ]
        }
      ]
    },
    {
      "cell_type": "code",
      "source": [
        "# update\n",
        "x = {\"a\", \"b\", \"c\"}\n",
        "y = {\"f\", \"d\", \"a\"}\n",
        "x |= y\n",
        "print(x)"
      ],
      "metadata": {
        "colab": {
          "base_uri": "https://localhost:8080/"
        },
        "id": "4NS7R99a52Ut",
        "outputId": "6c4c7fb6-c4a3-42b5-c85a-4b0691e47608"
      },
      "execution_count": 104,
      "outputs": [
        {
          "output_type": "stream",
          "name": "stdout",
          "text": [
            "{'b', 'f', 'c', 'd', 'a'}\n"
          ]
        }
      ]
    },
    {
      "cell_type": "code",
      "source": [
        "x = {\"apple\", \"banana\", \"cherry\"}\n",
        "y = {\"google\", \"microsoft\", \"apple\"}\n",
        "x |= y\n",
        "print(x)"
      ],
      "metadata": {
        "colab": {
          "base_uri": "https://localhost:8080/"
        },
        "id": "LWmWY2kR6mCa",
        "outputId": "a1161715-4357-4219-be93-a969acc2defb"
      },
      "execution_count": 105,
      "outputs": [
        {
          "output_type": "stream",
          "name": "stdout",
          "text": [
            "{'cherry', 'apple', 'microsoft', 'banana', 'google'}\n"
          ]
        }
      ]
    },
    {
      "cell_type": "code",
      "source": [],
      "metadata": {
        "id": "B0lhWLjU6wlT"
      },
      "execution_count": 105,
      "outputs": []
    }
  ]
}