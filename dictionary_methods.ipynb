{
  "nbformat": 4,
  "nbformat_minor": 0,
  "metadata": {
    "colab": {
      "provenance": [],
      "authorship_tag": "ABX9TyOwhDO3l5nuwtzDAGwnGrO1",
      "include_colab_link": true
    },
    "kernelspec": {
      "name": "python3",
      "display_name": "Python 3"
    },
    "language_info": {
      "name": "python"
    }
  },
  "cells": [
    {
      "cell_type": "markdown",
      "metadata": {
        "id": "view-in-github",
        "colab_type": "text"
      },
      "source": [
        "<a href=\"https://colab.research.google.com/github/Priyanka24322/PythonZTMUdemyNotes/blob/main/dictionary_methods.ipynb\" target=\"_parent\"><img src=\"https://colab.research.google.com/assets/colab-badge.svg\" alt=\"Open In Colab\"/></a>"
      ]
    },
    {
      "cell_type": "code",
      "execution_count": 8,
      "metadata": {
        "colab": {
          "base_uri": "https://localhost:8080/"
        },
        "id": "fr7CUIqkYZm2",
        "outputId": "4a8e9000-b650-4d50-fd67-209711cd2713"
      },
      "outputs": [
        {
          "output_type": "stream",
          "name": "stdout",
          "text": [
            "{}\n"
          ]
        }
      ],
      "source": [
        "# clear\n",
        "car = {\n",
        "    \"brand\": \"Ford\",\n",
        "    \"model\": \"Mustang\",\n",
        "    \"year\": 1968\n",
        "}\n",
        "car.clear()\n",
        "print(car)"
      ]
    },
    {
      "cell_type": "code",
      "source": [
        "# copy\n",
        "car = {\n",
        "    \"brand\": \"Ford\",\n",
        "    \"model\": \"Mustang\",\n",
        "    \"year\": 1968\n",
        "}\n",
        "print(car.copy())"
      ],
      "metadata": {
        "colab": {
          "base_uri": "https://localhost:8080/"
        },
        "id": "bl_ov9lLbRZw",
        "outputId": "b950ba9c-083d-4710-9eae-5d08ff979e69"
      },
      "execution_count": 9,
      "outputs": [
        {
          "output_type": "stream",
          "name": "stdout",
          "text": [
            "{'brand': 'Ford', 'model': 'Mustang', 'year': 1968}\n"
          ]
        }
      ]
    },
    {
      "cell_type": "code",
      "source": [
        "# fromkeys\n",
        "x = ('key1','key2','key3')\n",
        "y = 0\n",
        "thisdict = dict.fromkeys(x,y)\n",
        "print(thisdict)"
      ],
      "metadata": {
        "colab": {
          "base_uri": "https://localhost:8080/"
        },
        "id": "4XBHpeRfbrHo",
        "outputId": "a11998f4-d7d7-48c6-ce1e-379568d45e05"
      },
      "execution_count": 10,
      "outputs": [
        {
          "output_type": "stream",
          "name": "stdout",
          "text": [
            "{'key1': 0, 'key2': 0, 'key3': 0}\n"
          ]
        }
      ]
    },
    {
      "cell_type": "code",
      "source": [
        "x = ('key1','key2','key3')\n",
        "thisdict = dict.fromkeys(x)\n",
        "print(thisdict)"
      ],
      "metadata": {
        "colab": {
          "base_uri": "https://localhost:8080/"
        },
        "id": "UEYDCnuxdvWG",
        "outputId": "c2709257-4b46-435c-f177-fbb474926a96"
      },
      "execution_count": 11,
      "outputs": [
        {
          "output_type": "stream",
          "name": "stdout",
          "text": [
            "{'key1': None, 'key2': None, 'key3': None}\n"
          ]
        }
      ]
    },
    {
      "cell_type": "code",
      "source": [
        "# get\n",
        "car = {\n",
        "    \"brand\": \"Ford\",\n",
        "    \"model\": \"Mustang\",\n",
        "    \"year\": 1968\n",
        "}\n",
        "print(car.get(\"year\"))"
      ],
      "metadata": {
        "colab": {
          "base_uri": "https://localhost:8080/"
        },
        "id": "SMoYfBzveOeG",
        "outputId": "8becdf83-3715-4fb5-ab7b-955062c166d7"
      },
      "execution_count": 12,
      "outputs": [
        {
          "output_type": "stream",
          "name": "stdout",
          "text": [
            "1968\n"
          ]
        }
      ]
    },
    {
      "cell_type": "code",
      "source": [
        "car = {\n",
        "    \"brand\": \"Ford\",\n",
        "    \"model\": \"Mustang\",\n",
        "    \"year\": 1968\n",
        "}\n",
        "print(car.get(\"brand\"))"
      ],
      "metadata": {
        "colab": {
          "base_uri": "https://localhost:8080/"
        },
        "id": "YBEEZ2V3eQ_z",
        "outputId": "eb6fb756-b85a-45e2-8ef4-b3cedc87a6ba"
      },
      "execution_count": 13,
      "outputs": [
        {
          "output_type": "stream",
          "name": "stdout",
          "text": [
            "Ford\n"
          ]
        }
      ]
    },
    {
      "cell_type": "code",
      "source": [
        "# items\n",
        "car = {\n",
        "    \"brand\": \"Ford\",\n",
        "    \"model\": \"Mustang\",\n",
        "    \"year\": 1968\n",
        "}\n",
        "print(car.items())"
      ],
      "metadata": {
        "colab": {
          "base_uri": "https://localhost:8080/"
        },
        "id": "PZPv-7I8elDU",
        "outputId": "45dff30a-e210-42fb-9216-a957d3e98e0f"
      },
      "execution_count": 14,
      "outputs": [
        {
          "output_type": "stream",
          "name": "stdout",
          "text": [
            "dict_items([('brand', 'Ford'), ('model', 'Mustang'), ('year', 1968)])\n"
          ]
        }
      ]
    },
    {
      "cell_type": "code",
      "source": [
        "# keys\n",
        "car = {\n",
        "    \"brand\": \"Ford\",\n",
        "    \"model\": \"Mustang\",\n",
        "    \"year\": 1968\n",
        "}\n",
        "print(car.keys())"
      ],
      "metadata": {
        "colab": {
          "base_uri": "https://localhost:8080/"
        },
        "id": "X2auGG59e3Yn",
        "outputId": "fdb6ce5f-5dc6-4e36-e675-1ab36484c129"
      },
      "execution_count": 15,
      "outputs": [
        {
          "output_type": "stream",
          "name": "stdout",
          "text": [
            "dict_keys(['brand', 'model', 'year'])\n"
          ]
        }
      ]
    },
    {
      "cell_type": "code",
      "source": [
        "x = ('key1','key2','key3')\n",
        "y = 0\n",
        "thisdict = dict.fromkeys(x,y)\n",
        "print(thisdict.keys())"
      ],
      "metadata": {
        "colab": {
          "base_uri": "https://localhost:8080/"
        },
        "id": "S-d9tAtmfnnz",
        "outputId": "4a03177b-7ca1-45c9-916c-b683386eb859"
      },
      "execution_count": 16,
      "outputs": [
        {
          "output_type": "stream",
          "name": "stdout",
          "text": [
            "dict_keys(['key1', 'key2', 'key3'])\n"
          ]
        }
      ]
    },
    {
      "cell_type": "code",
      "source": [
        "# pop\n",
        "car = {\n",
        "    \"brand\": \"Ford\",\n",
        "    \"model\": \"Mustang\",\n",
        "    \"year\": 1968\n",
        "}\n",
        "print(car.pop(\"brand\"))"
      ],
      "metadata": {
        "colab": {
          "base_uri": "https://localhost:8080/"
        },
        "id": "IJHOSLOMf78R",
        "outputId": "563da035-d923-4dc7-c254-b4522a5e0fe2"
      },
      "execution_count": 17,
      "outputs": [
        {
          "output_type": "stream",
          "name": "stdout",
          "text": [
            "Ford\n"
          ]
        }
      ]
    },
    {
      "cell_type": "code",
      "source": [
        "car = {\n",
        "    \"brand\": \"Ford\",\n",
        "    \"model\": \"Mustang\",\n",
        "    \"year\": 1968\n",
        "}\n",
        "print(car.pop(\"model\"))"
      ],
      "metadata": {
        "colab": {
          "base_uri": "https://localhost:8080/"
        },
        "id": "HC4oF6fWgJSn",
        "outputId": "97be3c0e-4484-472f-ad25-1073da9868f0"
      },
      "execution_count": 18,
      "outputs": [
        {
          "output_type": "stream",
          "name": "stdout",
          "text": [
            "Mustang\n"
          ]
        }
      ]
    },
    {
      "cell_type": "code",
      "source": [
        "# popitem\n",
        "car = {\n",
        "    \"brand\": \"Ford\",\n",
        "    \"model\": \"Mustang\",\n",
        "    \"year\": 1968,\n",
        "}\n",
        "print(car.popitem())"
      ],
      "metadata": {
        "colab": {
          "base_uri": "https://localhost:8080/"
        },
        "id": "f61DvfuUgWkG",
        "outputId": "2f6ba3fa-8fb3-471b-f0c5-97481b1ebba4"
      },
      "execution_count": 24,
      "outputs": [
        {
          "output_type": "stream",
          "name": "stdout",
          "text": [
            "('year', 1968)\n"
          ]
        }
      ]
    },
    {
      "cell_type": "code",
      "source": [
        "car = {\n",
        "    \"brand\": \"Ford\",\n",
        "    \"year\": 1968,\n",
        "    \"model\": \"Mustang\"\n",
        "}\n",
        "print(car.popitem())"
      ],
      "metadata": {
        "colab": {
          "base_uri": "https://localhost:8080/"
        },
        "id": "YWvh76aph0Qo",
        "outputId": "c1608f89-60d3-4e05-d848-bf56813bccc9"
      },
      "execution_count": 25,
      "outputs": [
        {
          "output_type": "stream",
          "name": "stdout",
          "text": [
            "('model', 'Mustang')\n"
          ]
        }
      ]
    },
    {
      "cell_type": "code",
      "source": [
        "# setdefault\n",
        "car = {\n",
        "    \"brand\": \"Ford\",\n",
        "    \"model\": \"Mustang\",\n",
        "    \"year\": 1968,\n",
        "}\n",
        "print(car.setdefault(\"model\",\"Bronco\"))"
      ],
      "metadata": {
        "colab": {
          "base_uri": "https://localhost:8080/"
        },
        "id": "1yz6I8R8iPqE",
        "outputId": "180387dc-3466-40b9-b843-8674223fc9ba"
      },
      "execution_count": 26,
      "outputs": [
        {
          "output_type": "stream",
          "name": "stdout",
          "text": [
            "Mustang\n"
          ]
        }
      ]
    },
    {
      "cell_type": "code",
      "source": [
        "car = {\n",
        "    \"brand\": \"Ford\",\n",
        "    \"model\": \"Mustang\",\n",
        "    \"year\": 1968,\n",
        "}\n",
        "print(car.setdefault(\"color\",\"black\"))"
      ],
      "metadata": {
        "colab": {
          "base_uri": "https://localhost:8080/"
        },
        "id": "EJv3I9CCjyVt",
        "outputId": "3965cf54-728f-47fd-c6b4-37ffff4f6621"
      },
      "execution_count": 27,
      "outputs": [
        {
          "output_type": "stream",
          "name": "stdout",
          "text": [
            "black\n"
          ]
        }
      ]
    },
    {
      "cell_type": "code",
      "source": [
        "# update\n",
        "car = {\n",
        "    \"brand\": \"Ford\",\n",
        "    \"model\": \"Mustang\",\n",
        "    \"year\": 1968,\n",
        "}\n",
        "print(car.update({\"color\": \"black\"}))"
      ],
      "metadata": {
        "colab": {
          "base_uri": "https://localhost:8080/"
        },
        "id": "f67Pq8uZkKoQ",
        "outputId": "e8d08eaa-3f7d-43b4-b33e-42d1370d698a"
      },
      "execution_count": 28,
      "outputs": [
        {
          "output_type": "stream",
          "name": "stdout",
          "text": [
            "None\n"
          ]
        }
      ]
    },
    {
      "cell_type": "code",
      "source": [
        "car = {\n",
        "  \"brand\": \"Ford\",\n",
        "  \"model\": \"Mustang\",\n",
        "  \"year\": 1964\n",
        "}\n",
        "car.update({\"color\": \"White\"})\n",
        "print(car)"
      ],
      "metadata": {
        "colab": {
          "base_uri": "https://localhost:8080/"
        },
        "id": "-JJmGhi1kyJ3",
        "outputId": "b3cfc150-867f-4480-d681-e09163fe4ad3"
      },
      "execution_count": 29,
      "outputs": [
        {
          "output_type": "stream",
          "name": "stdout",
          "text": [
            "{'brand': 'Ford', 'model': 'Mustang', 'year': 1964, 'color': 'White'}\n"
          ]
        }
      ]
    },
    {
      "cell_type": "code",
      "source": [
        "# values\n",
        "car = {\n",
        "  \"brand\": \"Ford\",\n",
        "  \"model\": \"Mustang\",\n",
        "  \"year\": 1964\n",
        "}\n",
        "print(car.values())"
      ],
      "metadata": {
        "colab": {
          "base_uri": "https://localhost:8080/"
        },
        "id": "VI55aR8ZmGcw",
        "outputId": "f7f85836-f210-4c60-9115-cc26e4b0c598"
      },
      "execution_count": 30,
      "outputs": [
        {
          "output_type": "stream",
          "name": "stdout",
          "text": [
            "dict_values(['Ford', 'Mustang', 1964])\n"
          ]
        }
      ]
    },
    {
      "cell_type": "code",
      "source": [],
      "metadata": {
        "id": "tXrW_5CmlMxu"
      },
      "execution_count": null,
      "outputs": []
    }
  ]
}